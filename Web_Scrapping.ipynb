{
  "nbformat": 4,
  "nbformat_minor": 0,
  "metadata": {
    "colab": {
      "name": "Web Scrapping.ipynb",
      "provenance": [],
      "collapsed_sections": [
        "Vbtf_Zz7tFAf"
      ],
      "authorship_tag": "ABX9TyOBgvnQh0gr066nUmp9mqqR",
      "include_colab_link": true
    },
    "kernelspec": {
      "name": "python3",
      "display_name": "Python 3"
    },
    "language_info": {
      "name": "python"
    }
  },
  "cells": [
    {
      "cell_type": "markdown",
      "metadata": {
        "id": "view-in-github",
        "colab_type": "text"
      },
      "source": [
        "<a href=\"https://colab.research.google.com/github/alvarorl231/ResearchMethods/blob/main/Web_Scrapping.ipynb\" target=\"_parent\"><img src=\"https://colab.research.google.com/assets/colab-badge.svg\" alt=\"Open In Colab\"/></a>"
      ]
    },
    {
      "cell_type": "markdown",
      "source": [
        "# Web Scrapping"
      ],
      "metadata": {
        "id": "ToJhqa0jwy5E"
      }
    },
    {
      "cell_type": "markdown",
      "source": [
        "## Imports, etc."
      ],
      "metadata": {
        "id": "bN_aB1XCwydV"
      }
    },
    {
      "cell_type": "code",
      "source": [
        "!pip install BeautifulSoup4\n",
        "!pip install requests"
      ],
      "metadata": {
        "id": "_6rqbNGY33U6"
      },
      "execution_count": null,
      "outputs": []
    },
    {
      "cell_type": "code",
      "source": [
        "from bs4 import BeautifulSoup\n",
        "import requests\n",
        "import pandas as pd"
      ],
      "metadata": {
        "id": "6EYTiurz4BxE"
      },
      "execution_count": 2,
      "outputs": []
    },
    {
      "cell_type": "markdown",
      "source": [
        "## Declaración de Variables"
      ],
      "metadata": {
        "id": "bHY6zqV3QW-k"
      }
    },
    {
      "cell_type": "code",
      "source": [
        "# Lista que contendrá toda la información\n",
        "frases = []\n",
        "\n",
        "# Lista que almacenara el contenido sensible\n",
        "sensitive=[]\n",
        "sensitive_filtered=[]\n",
        "\n",
        "# Lista que almacenara el contenido NO sensible\n",
        "nonsensitive=[]\n",
        "\n",
        "# Keywords\n",
        "keywords = ['ametralladora', 'arma', 'ataque', 'batallón', 'bomba', \n",
        "             'capitán', 'comandante', 'compañía', 'dispar', 'herido',\n",
        "             'muerto', 'munición', 'municion', 'oficial', 'tiro']\n",
        "\n",
        "filtered_keywords = ['ametralladora', 'ametralladoras',\n",
        "                     'arma', 'arma', 'armas', 'armado', 'armados', 'armamento'\n",
        "                     'ataque', 'ataques', \n",
        "                     'batallón', \n",
        "                     'bomba', 'bombardeos', 'bombardeo', 'bombardean', 'bombas', 'bombardea', 'bombardeará', 'bombardeaba', \n",
        "                     'capitán', \n",
        "                     'comandante', 'comandantes',\n",
        "                     'compañía', 'compañías',\n",
        "                     'disparo', 'disparos', 'dispara','dispararon',\n",
        "                     'herido', 'heridos',\n",
        "                     'muerto', 'muertos',\n",
        "                     'munición', 'municiones',\n",
        "                     'oficial', \n",
        "                     'tiro', 'tiroteo', 'tiro', 'tiroteo', 'tiroteos', 'tiroteado', 'tiroteos', 'tiros', 'tiroteados']             \n"
      ],
      "metadata": {
        "id": "Kl-9ZaUe02yZ"
      },
      "execution_count": 3,
      "outputs": []
    },
    {
      "cell_type": "markdown",
      "source": [
        "## Obteción de la Información"
      ],
      "metadata": {
        "id": "tBFr1bsfDIOu"
      }
    },
    {
      "cell_type": "markdown",
      "source": [
        "Los periódicos elegidos la propiedad de que muestran las noticias en webs con urls del estilo:\n",
        "```\n",
        "https://elpais.com/noticias/terrorismo-internacional/\n",
        "https://elpais.com/noticias/terrorismo-internacional/1/\n",
        "https://elpais.com/noticias/terrorismo-internacional/2/\n",
        ".\n",
        ".\n",
        ".\n",
        ".\n",
        "https://elpais.com/noticias/terrorismo-internacional/n/\n",
        "```\n",
        "Esto facilita mucho el scrapping, ya que al conseguir extraer los datos de una página, para las n siguientes solo debes aplicar un bucle."
      ],
      "metadata": {
        "id": "B4Ys7F8jGtvE"
      }
    },
    {
      "cell_type": "markdown",
      "source": [
        "De ese modo, la función `get_tags` nos ayudara a agilizar el proceso y a obtener una mayor limpieza en el código"
      ],
      "metadata": {
        "id": "2LFeX3ouHam-"
      }
    },
    {
      "cell_type": "code",
      "source": [
        "def get_tags (url, id):\n",
        "\n",
        " result = requests.get(url)\n",
        "\n",
        " doc = BeautifulSoup(result.text, \"html.parser\")\n",
        "\n",
        " if (id == 'span'):\n",
        "   html_tags = doc.find_all(\"span\")\n",
        "   print(f'span,{url}')\n",
        " elif (id == 'h1'):\n",
        "   html_tags = doc.find_all(\"h1\") \n",
        "   print(f'h1,{url}')\n",
        " else:\n",
        "   html_tags = doc.find_all(\"h2\")\n",
        "   print(f'h2,{url}')\n",
        "\n",
        " return html_tags"
      ],
      "metadata": {
        "id": "3Z7RRv_tGta8"
      },
      "execution_count": 4,
      "outputs": []
    },
    {
      "cell_type": "markdown",
      "source": [
        "### Periódico: [RRP (Perú)](https://rpp.pe/noticias/terrorismo)"
      ],
      "metadata": {
        "id": "PUrnMl4BAhbP"
      }
    },
    {
      "cell_type": "code",
      "source": [
        "id = 'h2'\n",
        "\n",
        "for i in range(1,6):\n",
        "  if i == 1:\n",
        "   rrp_url = \"https://rpp.pe/noticias/terrorismo\"\n",
        "   tags = get_tags(rrp_url, id)\n",
        "   for text in tags:\n",
        "    text = str(text.string)\n",
        "    if len(text) > 15:\n",
        "     frases.append(text)\n",
        "  else:\n",
        "   rrp_new_url = f\"https://rpp.pe/noticias/terrorismo?page={i}/\"\n",
        "   tags = get_tags(rrp_new_url, id)\n",
        "   for text in tags:\n",
        "    text = str(text.string)\n",
        "    if len(text) > 15:\n",
        "     frases.append(text)"
      ],
      "metadata": {
        "id": "7MOCTDiqAh9_"
      },
      "execution_count": null,
      "outputs": []
    },
    {
      "cell_type": "markdown",
      "source": [
        "### Periódico: [La Voz (Argentina)](https://www.lavoz.com.ar/temas/terrorismo/)"
      ],
      "metadata": {
        "id": "UYiX2x5m_3jY"
      }
    },
    {
      "cell_type": "code",
      "source": [
        "id = 'h2'\n",
        "\n",
        "for i in range(1,46):\n",
        "  if i == 1:\n",
        "   lavoz_url = \"https://www.lavoz.com.ar/temas/terrorismo/\"\n",
        "   tags = get_tags(lavoz_url, id)\n",
        "   for text in tags:\n",
        "    text = str(text.string)\n",
        "    if len(text) > 15:\n",
        "     frases.append(text)\n",
        "  else:\n",
        "   lavoz_new_url = f\"https://www.lavoz.com.ar/temas/terrorismo/{i}/\"\n",
        "   tags = get_tags(lavoz_new_url, id)\n",
        "   for text in tags:\n",
        "    text = str(text.string)\n",
        "    if len(text) > 15:\n",
        "     frases.append(text)"
      ],
      "metadata": {
        "id": "XDAgsdLq_4Cg"
      },
      "execution_count": null,
      "outputs": []
    },
    {
      "cell_type": "markdown",
      "source": [
        "### Periódico: [Gestión (Perú)](https://gestion.pe/noticias/terrorismo/)"
      ],
      "metadata": {
        "id": "xrSv-e3Q-vx1"
      }
    },
    {
      "cell_type": "code",
      "source": [
        "id = 'h2'\n",
        "\n",
        "for i in range(1,6):\n",
        "  if i == 1:\n",
        "   gestion_url = \"https://gestion.pe/noticias/terrorismo/\"\n",
        "   tags = get_tags(gestion_url, id)\n",
        "   for text in tags:\n",
        "    text = str(text.string)\n",
        "    if len(text) > 15:\n",
        "     frases.append(text)\n",
        "  else:\n",
        "   gestion_new_url = f\"https://gestion.pe/noticias/terrorismo/{i}/\"\n",
        "   tags = get_tags(gestion_new_url, id)\n",
        "   for text in tags:\n",
        "    text = str(text.string)\n",
        "    if len(text) > 15:\n",
        "     frases.append(text)"
      ],
      "metadata": {
        "id": "o2HfB2zS-vco"
      },
      "execution_count": null,
      "outputs": []
    },
    {
      "cell_type": "markdown",
      "source": [
        "### Periódico: [El Comercio (Perú)](https://elcomercio.pe/noticias/terrorismo/)"
      ],
      "metadata": {
        "id": "nJ81jRHI99d7"
      }
    },
    {
      "cell_type": "code",
      "source": [
        "id = 'h2'\n",
        "\n",
        "for i in range(1,33):\n",
        "  if i == 1:\n",
        "   elcomerico_url = \"https://elcomercio.pe/noticias/terrorismo/\"\n",
        "   tags = get_tags(elcomerico_url, id)\n",
        "   for text in tags:\n",
        "    text = str(text.string)\n",
        "    if len(text) > 15:\n",
        "     frases.append(text)\n",
        "  else:\n",
        "   elcomerico_new_url = f\"https://elcomercio.pe/noticias/terrorismo/{i}/\"\n",
        "   tags = get_tags(elcomerico_new_url, id)\n",
        "   for text in tags:\n",
        "    text = str(text.string)\n",
        "    if len(text) > 15:\n",
        "     frases.append(text)"
      ],
      "metadata": {
        "id": "nLPFre4k9981"
      },
      "execution_count": null,
      "outputs": []
    },
    {
      "cell_type": "markdown",
      "source": [
        "### Periódico: [Heraldo](https://www.heraldo.es/tags/temas/terrorismo.html/)"
      ],
      "metadata": {
        "id": "qjz1puK37MY7"
      }
    },
    {
      "cell_type": "code",
      "source": [
        "id = 'h1'\n",
        "\n",
        "for i in range(1,11):\n",
        "  if i == 1:\n",
        "   heraldo_url = \"https://www.heraldo.es/tags/temas/terrorismo.html/\"\n",
        "   tags = get_tags(heraldo_url, id)\n",
        "   for text in tags:\n",
        "    text = str(text.string)\n",
        "    if len(text) > 15:\n",
        "     frases.append(text)\n",
        "  else:\n",
        "   heraldo_new_url = f\"https://www.heraldo.es/tags/temas/terrorismo.html/{i}/\"\n",
        "   tags = get_tags(heraldo_new_url, id)\n",
        "   for text in tags:\n",
        "    text = str(text.string)\n",
        "    if len(text) > 15:\n",
        "     frases.append(text)"
      ],
      "metadata": {
        "id": "TKsWS32w7LRZ"
      },
      "execution_count": null,
      "outputs": []
    },
    {
      "cell_type": "markdown",
      "source": [
        "### Periódico: [Europa Press](https://www.europapress.es/temas/terrorismo)"
      ],
      "metadata": {
        "id": "_mV_i-mp3tX1"
      }
    },
    {
      "cell_type": "code",
      "source": [
        "id = 'h2'\n",
        "\n",
        "for i in range(1,301):\n",
        "  if i == 1:\n",
        "   elmundo_url = \"https://www.europapress.es/temas/terrorismo/\"\n",
        "   tags = get_tags(elmundo_url, id)\n",
        "   for text in tags:\n",
        "    text = str(text.string)\n",
        "    if len(text) > 15:\n",
        "     frases.append(text)\n",
        "  else:\n",
        "   elmundo_new_url = f\"https://www.europapress.es/temas/terrorismo/{i}\"\n",
        "   tags = get_tags(elmundo_new_url, id)\n",
        "   for text in tags:\n",
        "    text = str(text.string)\n",
        "    if len(text) > 15:\n",
        "     frases.append(text)"
      ],
      "metadata": {
        "id": "vLlQUFb73rGs"
      },
      "execution_count": null,
      "outputs": []
    },
    {
      "cell_type": "markdown",
      "source": [
        "### Periódico: [El Mundo](https://www.elmundo.es/t/te/terrorismo.html)"
      ],
      "metadata": {
        "id": "u2-SqDdG2sjD"
      }
    },
    {
      "cell_type": "code",
      "source": [
        "id = 'h2'\n",
        "\n",
        "for i in range(1,16):\n",
        "  if i == 1:\n",
        "   elmundo_url = \"https://www.elmundo.es/t/te/terrorismo/\"\n",
        "   tags = get_tags(elmundo_url, id)\n",
        "   for text in tags:\n",
        "    text = str(text.string)\n",
        "    if len(text) > 15:\n",
        "     frases.append(text)\n",
        "  else:\n",
        "   elmundo_new_url = f\"https://www.elmundo.es/t/te/terrorismo/pag{i}\"\n",
        "   tags = get_tags(elmundo_new_url, id)\n",
        "   for text in tags:\n",
        "    text = str(text.string)\n",
        "    if len(text) > 15:\n",
        "     frases.append(text)\n"
      ],
      "metadata": {
        "id": "lfadMEfG2gni"
      },
      "execution_count": null,
      "outputs": []
    },
    {
      "cell_type": "markdown",
      "source": [
        "### Periódico: [El País](https://elpais.com/ultimas-noticias/)"
      ],
      "metadata": {
        "id": "UjHUTM_z1_ag"
      }
    },
    {
      "cell_type": "code",
      "source": [
        "id = 'h2'\n",
        "\n",
        "for i in range(1,370):\n",
        "  if i == 1:\n",
        "   elpais_url = \"https://elpais.com/noticias/terrorismo-internacional/\"\n",
        "   tags = get_tags(elpais_url, id)\n",
        "   for text in tags:\n",
        "    text = str(text.string)\n",
        "    if len(text) > 15:\n",
        "     frases.append(text)\n",
        "  else:\n",
        "   elpais_new_url = f\"https://elpais.com/noticias/terrorismo-internacional/{i}/\"\n",
        "   tags = get_tags(elpais_new_url, id)\n",
        "   for text in tags:\n",
        "    text = str(text.string)\n",
        "    if len(text) > 15:\n",
        "     frases.append(text)"
      ],
      "metadata": {
        "id": "pb6QLRRu0rra"
      },
      "execution_count": null,
      "outputs": []
    },
    {
      "cell_type": "code",
      "source": [
        "id = 'h2'\n",
        "\n",
        "for i in range(1,370):\n",
        "  if i == 1:\n",
        "   elpais_url = \"https://elpais.com/noticias/terrorismo/\"\n",
        "   tags = get_tags(elpais_url, id)\n",
        "   for text in tags:\n",
        "    text = str(text.string)\n",
        "    if len(text) > 15:\n",
        "     frases.append(text)\n",
        "  else:\n",
        "   elpais_new_url = f\"https://elpais.com/noticias/terrorismo/{i}/\"\n",
        "   tags = get_tags(elpais_new_url, id)\n",
        "   for text in tags:\n",
        "    text = str(text.string)\n",
        "    if len(text) > 15:\n",
        "     frases.append(text)"
      ],
      "metadata": {
        "id": "oZhnTN03ydQo"
      },
      "execution_count": null,
      "outputs": []
    },
    {
      "cell_type": "markdown",
      "source": [
        "### Periódico: [20 Minutos](https://www.20minutos.es/minuteca/terrorismo/)"
      ],
      "metadata": {
        "id": "NmVOh4eDzN7X"
      }
    },
    {
      "cell_type": "code",
      "source": [
        "id = 'h1'\n",
        "\n",
        "for i in range(1,370):\n",
        "  if i == 1:\n",
        "   minutos_url = \"https://www.20minutos.es/minuteca/terrorismo/\"\n",
        "   tags = get_tags(minutos_url, id)\n",
        "   for text in tags:\n",
        "    text = str(text.string)\n",
        "    if len(text) > 15:\n",
        "     frases.append(text)\n",
        "  else:\n",
        "   minutos_new_url = f\"https://www.20minutos.es/minuteca/terrorismo/{i}/\"\n",
        "   tags = get_tags(minutos_new_url, id)\n",
        "   for text in tags:\n",
        "    text = str(text.string)\n",
        "    if len(text) > 15:\n",
        "     frases.append(text)"
      ],
      "metadata": {
        "id": "X3htVr26zNU4"
      },
      "execution_count": null,
      "outputs": []
    },
    {
      "cell_type": "markdown",
      "source": [
        "## Selección de palabras sensibles"
      ],
      "metadata": {
        "id": "BcqPlBp0J_oW"
      }
    },
    {
      "cell_type": "markdown",
      "source": [
        "### Keyword `in` frase"
      ],
      "metadata": {
        "id": "BiLtAE8ntBK2"
      }
    },
    {
      "cell_type": "markdown",
      "source": [
        "Tras esto limpiamos la lista de frases obtenida anteriormente y la empleamos para buscar el contenido sensible"
      ],
      "metadata": {
        "id": "oECnzmqLPHlu"
      }
    },
    {
      "cell_type": "code",
      "source": [
        "# Ahora vamos eliminar duplicados con set()\n",
        "frases = list(set(frases))\n",
        "\n",
        "# Por cada keyword busca en todos los elementos de la lista frases, si se da esta condición, se almacena.\n",
        "for i in keywords:\n",
        "  for j in range(len(frases)):\n",
        "    if (i in frases[j]) or (i.capitalize() in frases[j]):\n",
        "      sensitive.append(frases[j])\n",
        "\n",
        "sensitive = list(set(sensitive))"
      ],
      "metadata": {
        "id": "6yynmaJOKDnB"
      },
      "execution_count": 15,
      "outputs": []
    },
    {
      "cell_type": "markdown",
      "source": [
        "### Keyword `==` palabra de cada frase"
      ],
      "metadata": {
        "id": "Vbtf_Zz7tFAf"
      }
    },
    {
      "cell_type": "code",
      "source": [
        "sensitive_filtered.clear()"
      ],
      "metadata": {
        "id": "qDOppNOzIJ45"
      },
      "execution_count": 21,
      "outputs": []
    },
    {
      "cell_type": "code",
      "source": [
        "# Por cada filtered_keywords busca en todos los elementos de la lista frases, si se da esta condición, se almacena.\n",
        "for i in filtered_keywords:\n",
        "  for j in range(len(frases)):\n",
        "    aux_list = frases[j].split()\n",
        "    for k in range(len(aux_list)):\n",
        "     if (i == aux_list[k]) or (i.capitalize() == aux_list[k]):\n",
        "      sensitive_filtered.append(frases[j])\n",
        "\n",
        "\n",
        "sensitive_filtered = list(set(sensitive_filtered))"
      ],
      "metadata": {
        "id": "B3a4skXts-Il"
      },
      "execution_count": 22,
      "outputs": []
    },
    {
      "cell_type": "markdown",
      "source": [
        "### Creación de la lista de frases no sensibles"
      ],
      "metadata": {
        "id": "HEQMuBNztL9C"
      }
    },
    {
      "cell_type": "code",
      "source": [
        "nonsensitive = [i for i in frases if i not in sensitive]\n",
        "nonsensitive = list(set(nonsensitive))"
      ],
      "metadata": {
        "id": "pwaynRThgemI"
      },
      "execution_count": 17,
      "outputs": []
    },
    {
      "cell_type": "markdown",
      "source": [
        "## Almacenar los datos en archivos `.csv`"
      ],
      "metadata": {
        "id": "mHwdctSnwbYE"
      }
    },
    {
      "cell_type": "code",
      "source": [
        "# Todos los títulos de las noticias\n",
        "df = pd.DataFrame(frases)\n",
        "df.to_csv(\"all.csv\", index=False)\n",
        "\n",
        "# Todos los títulos SENSIBLES\n",
        "df = pd.DataFrame(sensitive)\n",
        "df.to_csv(\"sensitive.csv\", index=False)\n",
        "\n",
        "# Todos los títulos SENSIBLES FILTRADOS\n",
        "df = pd.DataFrame(sensitive_filtered)\n",
        "df.to_csv(\"sensitive_filtered.csv\", index=False)\n",
        "\n",
        "# Todos los títulos NO SENSIBLES\n",
        "\n",
        "df = pd.DataFrame(nonsensitive)\n",
        "df.to_csv(\"nonsensitive.csv\", index=False)"
      ],
      "metadata": {
        "id": "20smqmz0vnQ2"
      },
      "execution_count": 23,
      "outputs": []
    }
  ]
}