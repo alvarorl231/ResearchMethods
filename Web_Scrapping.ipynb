{
  "nbformat": 4,
  "nbformat_minor": 0,
  "metadata": {
    "colab": {
      "name": "Web Scrapping.ipynb",
      "provenance": [],
      "collapsed_sections": [],
      "authorship_tag": "ABX9TyO0bVdNhtX2lt9m4uP1cQkX",
      "include_colab_link": true
    },
    "kernelspec": {
      "name": "python3",
      "display_name": "Python 3"
    },
    "language_info": {
      "name": "python"
    }
  },
  "cells": [
    {
      "cell_type": "markdown",
      "metadata": {
        "id": "view-in-github",
        "colab_type": "text"
      },
      "source": [
        "<a href=\"https://colab.research.google.com/github/alvarorl231/ResearchMethods/blob/main/Web_Scrapping.ipynb\" target=\"_parent\"><img src=\"https://colab.research.google.com/assets/colab-badge.svg\" alt=\"Open In Colab\"/></a>"
      ]
    },
    {
      "cell_type": "code",
      "source": [
        "!pip install BeautifulSoup4\n",
        "!pip install requests"
      ],
      "metadata": {
        "colab": {
          "base_uri": "https://localhost:8080/"
        },
        "id": "_6rqbNGY33U6",
        "outputId": "60a7b2b7-4050-4045-fdc6-ac0502b707c1"
      },
      "execution_count": null,
      "outputs": [
        {
          "output_type": "stream",
          "name": "stdout",
          "text": [
            "Requirement already satisfied: BeautifulSoup4 in /usr/local/lib/python3.7/dist-packages (4.6.3)\n",
            "Requirement already satisfied: requests in /usr/local/lib/python3.7/dist-packages (2.23.0)\n",
            "Requirement already satisfied: urllib3!=1.25.0,!=1.25.1,<1.26,>=1.21.1 in /usr/local/lib/python3.7/dist-packages (from requests) (1.24.3)\n",
            "Requirement already satisfied: idna<3,>=2.5 in /usr/local/lib/python3.7/dist-packages (from requests) (2.10)\n",
            "Requirement already satisfied: chardet<4,>=3.0.2 in /usr/local/lib/python3.7/dist-packages (from requests) (3.0.4)\n",
            "Requirement already satisfied: certifi>=2017.4.17 in /usr/local/lib/python3.7/dist-packages (from requests) (2021.10.8)\n"
          ]
        }
      ]
    },
    {
      "cell_type": "code",
      "source": [
        "from bs4 import BeautifulSoup\n",
        "import requests"
      ],
      "metadata": {
        "id": "6EYTiurz4BxE"
      },
      "execution_count": null,
      "outputs": []
    },
    {
      "cell_type": "code",
      "source": [
        "url = \"https://www.eldiario.es/internacional\"\n",
        "\n",
        "result = requests.get(url)\n",
        "doc = BeautifulSoup(result.text, \"html.parser\")\n",
        "tag = doc.body\n",
        "\n",
        "frases = []\n",
        "\n",
        "'''\n",
        "Tras inspeccionar el html de la página a través de print(tag.prettify()), he podido observar que los títulos de las noticias vienen precedidas por <h2 ..... /h2>\n",
        "entonces, utilizando la funcion find y find_next almaceno en una lista todos los títulos de las noticias\n",
        "'''\n",
        "\n",
        "\n",
        "tag = tag.find(\"h2\")\n",
        "frases.append(tag.string)\n",
        "while tag.find_next(\"h2\"):\n",
        "   tag = tag.find_next(\"h2\")\n",
        "   frases.append(tag.string)\n",
        "\n",
        "# Elimina elementos duplicados\n",
        "frases = set(frases)\n",
        "\n",
        "print(*frases, sep = \"\\n\")"
      ],
      "metadata": {
        "colab": {
          "base_uri": "https://localhost:8080/"
        },
        "id": "AbhEreUy5g4q",
        "outputId": "0bc6bf4d-9b28-479b-b7c2-4eef9355f84d"
      },
      "execution_count": null,
      "outputs": [
        {
          "output_type": "stream",
          "name": "stdout",
          "text": [
            "Última hora sobre la invasión rusa de Ucrania, en directo\n",
            "Las claves del día: ataques en el este, escepticismo sobre las promesas rusas y más de cuatro millones de refugiados\n",
            "Las claves del día: Ucrania calcula 5.000 muertos en Mariúpol y dice recuperar una ciudad disputada cerca de Kiev\n",
            "Desaparecidos: el lugar equivocado en un momento equivocado\n",
            "Messi presentó Al Rihla, la pelota oficial del Mundial de Qatar 2022: las fotos\n",
            "El gobernador de Florida promulga la ley que prohíbe hablar en las escuelas de orientación sexual\n",
            "El chef José Andrés: “Lo que estamos consiguiendo entre todos los cocineros en Ucrania es mágico”\n",
            "Rusia dice que Ucrania ha accedido a sus demandas al poner por escrito que renuncia a la OTAN\n",
            "Borrell: “La guerra terminará, pero el peligro no desaparecerá”\n",
            "Las manos de México que mueven EE UU\n",
            "Rusia bombardea Chernígov y siguen los combates en torno a Kiev a pesar de su compromiso de reducir los ataques\n",
            "La inflación se dispara al 9,8% interanual en España, récord desde 1985\n",
            "Rusia se compromete a reducir los ataques en Kiev tras reunirse con Ucrania en Turquía\n",
            "Rusia y Ucrania cierran su primera reunión en Turquía con la sombra de Abramovich y el veneno de fondo\n",
            "Al menos cinco muertos en un tiroteo en una ciudad cercana a Tel Aviv\n",
            "Zelenski acepta “abordar” el estatus del Donbás ante una nueva ronda de negociaciones en Turquía\n",
            "Drones, quads y micromecenazgo: la unidad militar que ha frenado al convoy ruso que iba a por Kiev\n",
            "Rusia fracasa en la primera parte de la guerra y se prepara para la segunda\n",
            "Zapatistas, las rebeldes que renombran Europa\n",
            "El Gobierno dice que no busca regular las redes sociales\n",
            "Scotland Yard pondrá 20 multas por las fiestas en Downing Street en pandemia\n",
            "Las autoridades ucranianas critican a la Agencia de la ONU para los Refugiados por su respuesta a la guerra\n",
            "Las claves del día: ataque en Mykolaiv y señales de retirada de algunas fuerzas rusas en el norte\n",
            "El misterio de qué le pasó a Abramovich y la larga historia de envenenamientos rusos\n",
            "Así aplica Rusia las tácticas de su “manual sirio” en Ucrania\n",
            "Rusia cumple y devuelve a la Tierra a un astronauta estadounidense de la Estación Espacial Internacional\n",
            "Última hora de la invasión rusa de Ucrania, en directo\n",
            "Rusia y Ucrania perfilan un acuerdo de paz a la espera del visto bueno de Putin\n",
            "EEUU dice que los síntomas de Abramovich y los negociadores ucranianos se debieron a “factores ambientales” y no a veneno\n",
            "Nóvaya Gazeta, el último medio independiente en Rusia, suspende su publicación tras las advertencias del Kremlin\n",
            "Abramovich y dos negociadores ucranianos sufrieron síntomas de envenenamiento, según el Wall Street Journal\n",
            "20 años del 11S\n"
          ]
        }
      ]
    }
  ]
}